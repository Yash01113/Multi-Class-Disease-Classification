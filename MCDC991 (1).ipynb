{
  "nbformat": 4,
  "nbformat_minor": 0,
  "metadata": {
    "colab": {
      "provenance": []
    },
    "kernelspec": {
      "name": "python3",
      "display_name": "Python 3"
    },
    "language_info": {
      "name": "python"
    },
    "accelerator": "GPU",
    "gpuClass": "standard"
  },
  "cells": [
    {
      "cell_type": "code",
      "execution_count": null,
      "metadata": {
        "id": "-PBL9EOfm9TC"
      },
      "outputs": [],
      "source": [
        "import numpy as np\n",
        "import cv2\n",
        "import tensorflow as tf\n",
        "from tqdm import tqdm\n",
        "import os\n",
        "from sklearn.utils import shuffle\n",
        "from sklearn.model_selection import train_test_split\n",
        "from tensorflow.keras.applications import InceptionResNetV2\n",
        "from tensorflow.keras.callbacks import ReduceLROnPlateau, TensorBoard, ModelCheckpoint\n",
        "import ipywidgets as wAidgets\n",
        "import io\n",
        "from PIL import Image\n",
        "from IPython.display import display,clear_output"
      ]
    },
    {
      "cell_type": "code",
      "source": [
        "X_train=np.load('/content/drive/MyDrive/npy/X_train.npy')\n",
        "X_test=np.load('/content/drive/MyDrive/npy/X_test.npy')\n",
        "y_train=np.load('/content/drive/MyDrive/npy/y_train.npy')\n",
        "y_test=np.load('/content/drive/MyDrive/npy/y_test.npy')"
      ],
      "metadata": {
        "id": "lWqAPmYkpJEF"
      },
      "execution_count": null,
      "outputs": []
    },
    {
      "cell_type": "code",
      "source": [
        "\n",
        "image_size = 128\n",
        "effnet = InceptionResNetV2(weights='imagenet',include_top=False,input_shape=(image_size,image_size,3))\n",
        "model = effnet.output\n",
        "model = tf.keras.layers.GlobalAveragePooling2D()(model)\n",
        "model= tf.keras.layers.Dense(128,activation='relu')(model)\n",
        "model = tf.keras.layers.Dropout(rate=0.25)(model)\n",
        "model = tf.keras.layers.Dense(28,activation='softmax')(model)\n",
        "model = tf.keras.models.Model(inputs=effnet.input, outputs = model)\n",
        "model.compile(loss='categorical_crossentropy',optimizer = 'Adam', metrics= ['accuracy'])\n",
        "tensorboard = TensorBoard(log_dir = 'logs')\n",
        "checkpoint = ModelCheckpoint(\"effnet.h5\",monitor=\"val_accuracy\",save_best_only=True,mode=\"auto\",verbose=1)\n",
        "reduce_lr = ReduceLROnPlateau(monitor = 'val_accuracy', factor = 0.3, patience = 10, min_delta = 0.001,mode='auto',verbose=1)\n",
        "history = model.fit(X_train,y_train,validation_split=0.2, epochs =20, verbose=1, batch_size=128,callbacks=[tensorboard,checkpoint,reduce_lr])"
      ],
      "metadata": {
        "colab": {
          "base_uri": "https://localhost:8080/"
        },
        "id": "ptzUYiJapL75",
        "outputId": "9da857fe-21ff-476f-f210-44d530da526f"
      },
      "execution_count": null,
      "outputs": [
        {
          "output_type": "stream",
          "name": "stdout",
          "text": [
            "Downloading data from https://storage.googleapis.com/tensorflow/keras-applications/inception_resnet_v2/inception_resnet_v2_weights_tf_dim_ordering_tf_kernels_notop.h5\n",
            "219055592/219055592 [==============================] - 1s 0us/step\n",
            "Epoch 1/20\n",
            "234/234 [==============================] - ETA: 0s - loss: 0.7256 - accuracy: 0.7452\n",
            "Epoch 1: val_accuracy improved from -inf to 0.74163, saving model to effnet.h5\n",
            "234/234 [==============================] - 215s 784ms/step - loss: 0.7256 - accuracy: 0.7452 - val_loss: 0.7263 - val_accuracy: 0.7416 - lr: 0.0010\n",
            "Epoch 2/20\n",
            "234/234 [==============================] - ETA: 0s - loss: 0.4572 - accuracy: 0.8306\n",
            "Epoch 2: val_accuracy improved from 0.74163 to 0.82012, saving model to effnet.h5\n",
            "234/234 [==============================] - 180s 771ms/step - loss: 0.4572 - accuracy: 0.8306 - val_loss: 0.5269 - val_accuracy: 0.8201 - lr: 0.0010\n",
            "Epoch 3/20\n",
            "234/234 [==============================] - ETA: 0s - loss: 0.3664 - accuracy: 0.8667\n",
            "Epoch 3: val_accuracy improved from 0.82012 to 0.84329, saving model to effnet.h5\n",
            "234/234 [==============================] - 180s 771ms/step - loss: 0.3664 - accuracy: 0.8667 - val_loss: 0.4931 - val_accuracy: 0.8433 - lr: 0.0010\n",
            "Epoch 4/20\n",
            "234/234 [==============================] - ETA: 0s - loss: 0.2886 - accuracy: 0.8966\n",
            "Epoch 4: val_accuracy did not improve from 0.84329\n",
            "234/234 [==============================] - 176s 754ms/step - loss: 0.2886 - accuracy: 0.8966 - val_loss: 0.6142 - val_accuracy: 0.8098 - lr: 0.0010\n",
            "Epoch 5/20\n",
            "234/234 [==============================] - ETA: 0s - loss: 0.2268 - accuracy: 0.9206\n",
            "Epoch 5: val_accuracy did not improve from 0.84329\n",
            "234/234 [==============================] - 176s 754ms/step - loss: 0.2268 - accuracy: 0.9206 - val_loss: 0.5849 - val_accuracy: 0.8166 - lr: 0.0010\n",
            "Epoch 6/20\n",
            "234/234 [==============================] - ETA: 0s - loss: 0.1852 - accuracy: 0.9371\n",
            "Epoch 6: val_accuracy did not improve from 0.84329\n",
            "234/234 [==============================] - 176s 754ms/step - loss: 0.1852 - accuracy: 0.9371 - val_loss: 1.3416 - val_accuracy: 0.7126 - lr: 0.0010\n",
            "Epoch 7/20\n",
            "234/234 [==============================] - ETA: 0s - loss: 0.1639 - accuracy: 0.9433\n",
            "Epoch 7: val_accuracy improved from 0.84329 to 0.86619, saving model to effnet.h5\n",
            "234/234 [==============================] - 180s 770ms/step - loss: 0.1639 - accuracy: 0.9433 - val_loss: 0.5096 - val_accuracy: 0.8662 - lr: 0.0010\n",
            "Epoch 8/20\n",
            "234/234 [==============================] - ETA: 0s - loss: 0.1200 - accuracy: 0.9589\n",
            "Epoch 8: val_accuracy improved from 0.86619 to 0.89124, saving model to effnet.h5\n",
            "234/234 [==============================] - 180s 770ms/step - loss: 0.1200 - accuracy: 0.9589 - val_loss: 0.3819 - val_accuracy: 0.8912 - lr: 0.0010\n",
            "Epoch 9/20\n",
            "234/234 [==============================] - ETA: 0s - loss: 0.1032 - accuracy: 0.9645\n",
            "Epoch 9: val_accuracy did not improve from 0.89124\n",
            "234/234 [==============================] - 166s 711ms/step - loss: 0.1032 - accuracy: 0.9645 - val_loss: 0.4685 - val_accuracy: 0.8745 - lr: 0.0010\n",
            "Epoch 10/20\n",
            "234/234 [==============================] - ETA: 0s - loss: 0.0930 - accuracy: 0.9691\n",
            "Epoch 10: val_accuracy did not improve from 0.89124\n",
            "234/234 [==============================] - 166s 710ms/step - loss: 0.0930 - accuracy: 0.9691 - val_loss: 0.5062 - val_accuracy: 0.8576 - lr: 0.0010\n",
            "Epoch 11/20\n",
            "234/234 [==============================] - ETA: 0s - loss: 0.0807 - accuracy: 0.9725\n",
            "Epoch 11: val_accuracy did not improve from 0.89124\n",
            "234/234 [==============================] - 176s 753ms/step - loss: 0.0807 - accuracy: 0.9725 - val_loss: 0.6799 - val_accuracy: 0.8634 - lr: 0.0010\n",
            "Epoch 12/20\n",
            " 69/234 [=======>......................] - ETA: 1:50 - loss: 0.0756 - accuracy: 0.9760"
          ]
        }
      ]
    }
  ]
}